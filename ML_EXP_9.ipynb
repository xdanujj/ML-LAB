{
  "nbformat": 4,
  "nbformat_minor": 0,
  "metadata": {
    "colab": {
      "provenance": []
    },
    "kernelspec": {
      "name": "python3",
      "display_name": "Python 3"
    },
    "language_info": {
      "name": "python"
    }
  },
  "cells": [
    {
      "cell_type": "code",
      "execution_count": null,
      "metadata": {
        "colab": {
          "base_uri": "https://localhost:8080/"
        },
        "id": "1I8wK7-VHX24",
        "outputId": "ae221d66-a4fd-423d-fdae-fe10f8636962"
      },
      "outputs": [
        {
          "output_type": "stream",
          "name": "stdout",
          "text": [
            "   x1  x2  AND  OR  NAND  NOT_x1\n",
            "0   0   0    0   0     1       1\n",
            "1   0   1    0   1     1       1\n",
            "2   1   0    0   1     1       0\n",
            "3   1   1    1   1     0       0\n"
          ]
        }
      ],
      "source": [
        "import pandas as pd\n",
        "\n",
        "data = pd.read_csv('logic_gates_combined.csv')\n",
        "print(data)\n"
      ]
    },
    {
      "cell_type": "code",
      "source": [
        "# For 2-input gates (AND, OR, NAND)\n",
        "def mp_neuron_2input(x1, x2, weights, threshold):\n",
        "    weighted_sum = weights[0]*x1 + weights[1]*x2\n",
        "    return 1 if weighted_sum >= threshold else 0\n",
        "\n",
        "# For 1-input gate (NOT)\n",
        "def mp_neuron_1input(x, weight, threshold):\n",
        "    weighted_sum = weight * x\n",
        "    return 1 if weighted_sum >= threshold else 0\n"
      ],
      "metadata": {
        "id": "dZ8OYJZlIE0b"
      },
      "execution_count": null,
      "outputs": []
    },
    {
      "cell_type": "code",
      "source": [
        "gate_params = {\n",
        "    'AND': {'weights': [1,1], 'threshold': 2},\n",
        "    'OR': {'weights': [1,1], 'threshold': 1},\n",
        "    'NAND': {'weights': [-1,-1], 'threshold': -1},\n",
        "    'NOT_x1': {'weight': -1, 'threshold': 0}\n",
        "}\n"
      ],
      "metadata": {
        "id": "L8mX6L5UIJpL"
      },
      "execution_count": null,
      "outputs": []
    },
    {
      "cell_type": "code",
      "source": [
        "# Apply for AND, OR, NAND\n",
        "for gate in ['AND', 'OR', 'NAND']:\n",
        "    w = gate_params[gate]['weights']\n",
        "    t = gate_params[gate]['threshold']\n",
        "    data[f'pred_{gate}'] = data.apply(lambda row: mp_neuron_2input(row['x1'], row['x2'], w, t), axis=1)\n",
        "\n",
        "# Apply for NOT gate\n",
        "w_not = gate_params['NOT_x1']['weight']\n",
        "t_not = gate_params['NOT_x1']['threshold']\n",
        "data['pred_NOT_x1'] = data['x1'].apply(lambda x: mp_neuron_1input(x, w_not, t_not))\n"
      ],
      "metadata": {
        "id": "IkGR5ZZ1IN2c"
      },
      "execution_count": null,
      "outputs": []
    },
    {
      "cell_type": "code",
      "source": [
        "print(data)\n",
        "\n",
        "for gate in ['AND', 'OR', 'NAND', 'NOT_x1']:\n",
        "    accuracy = (data[gate] == data[f'pred_{gate}']).mean() * 100\n",
        "    print(f\"Accuracy for {gate}: {accuracy:.2f}%\")\n"
      ],
      "metadata": {
        "colab": {
          "base_uri": "https://localhost:8080/"
        },
        "id": "x6Cijs40ISpj",
        "outputId": "c1a52c31-ad59-4e0d-c0f3-315f9023a8be"
      },
      "execution_count": null,
      "outputs": [
        {
          "output_type": "stream",
          "name": "stdout",
          "text": [
            "   x1  x2  AND  OR  NAND  NOT_x1  pred_AND  pred_OR  pred_NAND  pred_NOT_x1\n",
            "0   0   0    0   0     1       1         0        0          1            1\n",
            "1   0   1    0   1     1       1         0        1          1            1\n",
            "2   1   0    0   1     1       0         0        1          1            0\n",
            "3   1   1    1   1     0       0         1        1          0            0\n",
            "Accuracy for AND: 100.00%\n",
            "Accuracy for OR: 100.00%\n",
            "Accuracy for NAND: 100.00%\n",
            "Accuracy for NOT_x1: 100.00%\n"
          ]
        }
      ]
    }
  ]
}